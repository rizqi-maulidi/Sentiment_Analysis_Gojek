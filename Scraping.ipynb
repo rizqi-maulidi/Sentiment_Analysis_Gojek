{
 "cells": [
  {
   "cell_type": "markdown",
   "id": "19eea64d",
   "metadata": {},
   "source": [
    "# Scapping Dataset"
   ]
  },
  {
   "cell_type": "code",
   "execution_count": 10,
   "id": "d91b2ec9",
   "metadata": {},
   "outputs": [
    {
     "name": "stdout",
     "output_type": "stream",
     "text": [
      "Jumlah ulasan yang diambil: 76500\n"
     ]
    }
   ],
   "source": [
    "from google_play_scraper import reviews_all, Sort\n",
    "\n",
    "# Scraping ulasan dari aplikasi Gojek di Google Play Store\n",
    "scrapreview = reviews_all(\n",
    "    'com.gojek.app',      # ID aplikasi Gojek\n",
    "    lang='id',            # Bahasa ulasan (Indonesia)\n",
    "    country='id',         # Negara Indonesia\n",
    "    sort=Sort.MOST_RELEVANT,  # Urutan berdasarkan relevansi\n",
    "    count=50000            # Ambil maksimum 50000 ulasan\n",
    ")\n",
    "\n",
    "# Cek jumlah ulasan yang berhasil diambil\n",
    "print(f\"Jumlah ulasan yang diambil: {len(scrapreview)}\")\n"
   ]
  },
  {
   "cell_type": "code",
   "execution_count": 11,
   "id": "4e96f4b8",
   "metadata": {},
   "outputs": [
    {
     "name": "stdout",
     "output_type": "stream",
     "text": [
      "Dataset ulasan berhasil disimpan dalam 'ulasan_gojek.csv'!\n"
     ]
    }
   ],
   "source": [
    "import pandas as pd\n",
    "\n",
    "# Konversi hasil scraping ke DataFrame\n",
    "df = pd.DataFrame(scrapreview)\n",
    "\n",
    "# Pilih kolom yang relevan\n",
    "df = df[['content', 'score', 'at', 'thumbsUpCount']]  \n",
    "df.rename(columns={'content': 'Review', 'score': 'Rating', 'at': 'Tanggal', 'thumbsUpCount': 'Likes'}, inplace=True)\n",
    "\n",
    "# Simpan ke file CSV\n",
    "df.to_csv('ulasan_gojek.csv', index=False, encoding='utf-8')\n",
    "\n",
    "print(\"Dataset ulasan berhasil disimpan dalam 'ulasan_gojek.csv'!\")\n"
   ]
  }
 ],
 "metadata": {
  "kernelspec": {
   "display_name": "envsentiment",
   "language": "python",
   "name": "python3"
  },
  "language_info": {
   "codemirror_mode": {
    "name": "ipython",
    "version": 3
   },
   "file_extension": ".py",
   "mimetype": "text/x-python",
   "name": "python",
   "nbconvert_exporter": "python",
   "pygments_lexer": "ipython3",
   "version": "3.9.13"
  }
 },
 "nbformat": 4,
 "nbformat_minor": 5
}
